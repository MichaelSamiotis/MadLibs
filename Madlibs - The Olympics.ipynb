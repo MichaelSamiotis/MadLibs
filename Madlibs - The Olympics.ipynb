{
 "cells": [
  {
   "cell_type": "code",
   "execution_count": null,
   "id": "6c6c820a",
   "metadata": {},
   "outputs": [],
   "source": [
    "#Create variables with the input method and ask the user to input words\n",
    "noun1 = input('Noun: ')\n",
    "plural_noun1 = input('Plural Noun: ')\n",
    "adjective1 = input('Adjective: ')\n",
    "plural_noun2 = input('Plural Noun: ')\n",
    "plural_noun3 = input('Plural Noun: ')\n",
    "number = input('Number: ')\n",
    "adjective2 = input('Adjective: ')\n",
    "adjective3 = input('Adjective: ')\n",
    "noun2 = input('Noun: ')\n",
    "adjective4 = input('Adjective: ')\n",
    "verb = input('Verb: ')\n",
    "part_of_body = input('Part of body: ')\n",
    "noun3 = input('Noun: ')\n",
    "adjective5 = input('Adjective: ')\n",
    "plural_noun4 = input('Plural Noun: ')\n",
    "plural_noun5 = input('Plural Noun: ')\n",
    "\n",
    "#The man paragraph with the variables in the text\n",
    "The_Olympics = f\"\"\"\n",
    "Every four years, countries from all over the {noun1} send their best {plural_noun1} \n",
    "to compete in {adjective1} games and win {plural_noun2}. These games are called the \n",
    "Olympic {plural_noun3}, and they started {number} years ago in {adjective2} Greece.\n",
    "When a winner receives his or her {adjective3} medal at the games, the national {noun2}\n",
    "of his or her country is played by a/an {adjective4} band. As the band {verb}, the citizens\n",
    "of that country put their {part_of_body} to their chest and join in the singing of their\n",
    "national {noun3}. Thanks to television, these {adjective5} events can now be watched by over\n",
    "a billion {plural_noun4} throughout the world every four {plural_noun5}.\n",
    "\"\"\"\n",
    "\n",
    "#Print and show the paragraph to the user\n",
    "print(The_Olympics)"
   ]
  }
 ],
 "metadata": {
  "kernelspec": {
   "display_name": "Python 3 (ipykernel)",
   "language": "python",
   "name": "python3"
  },
  "language_info": {
   "codemirror_mode": {
    "name": "ipython",
    "version": 3
   },
   "file_extension": ".py",
   "mimetype": "text/x-python",
   "name": "python",
   "nbconvert_exporter": "python",
   "pygments_lexer": "ipython3",
   "version": "3.9.2"
  }
 },
 "nbformat": 4,
 "nbformat_minor": 5
}
